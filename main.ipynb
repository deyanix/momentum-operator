{
 "cells": [
  {
   "cell_type": "markdown",
   "source": [
    "# Kwanty"
   ],
   "metadata": {
    "collapsed": false
   }
  },
  {
   "cell_type": "code",
   "execution_count": 779,
   "metadata": {
    "collapsed": true
   },
   "outputs": [],
   "source": [
    "import sympy as sp\n",
    "sp.init_printing()"
   ]
  },
  {
   "cell_type": "markdown",
   "source": [
    "## Symbole"
   ],
   "metadata": {
    "collapsed": false
   }
  },
  {
   "cell_type": "code",
   "execution_count": 780,
   "outputs": [],
   "source": [
    "x = sp.Symbol('x', real = True)\n",
    "k = sp.Symbol('k', real = True, positive = True)\n",
    "n = sp.Symbol('n', integer = True, nonzero = True)\n",
    "a = sp.Symbol('a', real = True)\n",
    "h = sp.Symbol('hbar', real = True, positive = True)\n",
    "psi = sp.Function('\\psi')\n",
    "p = -sp.I*h"
   ],
   "metadata": {
    "collapsed": false
   }
  },
  {
   "cell_type": "markdown",
   "source": [
    "## Wyliczenie $ \\phi(x) $"
   ],
   "metadata": {
    "collapsed": false
   }
  },
  {
   "cell_type": "code",
   "execution_count": 781,
   "outputs": [
    {
     "data": {
      "text/plain": "  2                       \n d               2        \n───(\\psi(x)) = -k ⋅\\psi(x)\n  2                       \ndx                        ",
      "image/png": "[encoded data removed]",
      "text/latex": "$\\displaystyle \\frac{d^{2}}{d x^{2}} \\psi{\\left(x \\right)} = - k^{2} \\psi{\\left(x \\right)}$"
     },
     "execution_count": 781,
     "metadata": {},
     "output_type": "execute_result"
    }
   ],
   "source": [
    "eq = sp.Eq(psi(x).diff(x, x), -k**2 * psi(x))\n",
    "eq"
   ],
   "metadata": {
    "collapsed": false
   }
  },
  {
   "cell_type": "code",
   "execution_count": 782,
   "outputs": [
    {
     "data": {
      "text/plain": "\\psi(x) = C₁⋅sin(k⋅x)",
      "image/png": "[encoded data removed]",
      "text/latex": "$\\displaystyle \\psi{\\left(x \\right)} = C_{1} \\sin{\\left(k x \\right)}$"
     },
     "execution_count": 782,
     "metadata": {},
     "output_type": "execute_result"
    }
   ],
   "source": [
    "sol = sp.dsolve(eq, psi(x), ics = {psi(0): 0})\n",
    "sol"
   ],
   "metadata": {
    "collapsed": false
   }
  },
  {
   "cell_type": "code",
   "execution_count": 783,
   "outputs": [
    {
     "data": {
      "text/plain": "                ⎛π⋅n⋅x⎞\n\\psi(x) = C₁⋅sin⎜─────⎟\n                ⎝  a  ⎠",
      "image/png": "[encoded data removed]",
      "text/latex": "$\\displaystyle \\psi{\\left(x \\right)} = C_{1} \\sin{\\left(\\frac{\\pi n x}{a} \\right)}$"
     },
     "execution_count": 783,
     "metadata": {},
     "output_type": "execute_result"
    }
   ],
   "source": [
    "sol = sol.subs(k, n * sp.pi / a)\n",
    "sol"
   ],
   "metadata": {
    "collapsed": false
   }
  },
  {
   "cell_type": "code",
   "execution_count": 784,
   "outputs": [
    {
     "data": {
      "text/plain": "                 ___           \n                ╱ 1     ⎛π⋅n⋅x⎞\n\\psi(x) = √2⋅  ╱  ─ ⋅sin⎜─────⎟\n             ╲╱   a     ⎝  a  ⎠",
      "image/png": "[encoded data removed]",
      "text/latex": "$\\displaystyle \\psi{\\left(x \\right)} = \\sqrt{2} \\sqrt{\\frac{1}{a}} \\sin{\\left(\\frac{\\pi n x}{a} \\right)}$"
     },
     "execution_count": 784,
     "metadata": {},
     "output_type": "execute_result"
    }
   ],
   "source": [
    "sol = sol.subs(sp.Symbol('C1'), sp.sqrt(2 / a))\n",
    "sol"
   ],
   "metadata": {
    "collapsed": false
   }
  },
  {
   "cell_type": "markdown",
   "source": [
    "## Wyliczenie $ <p> $"
   ],
   "metadata": {
    "collapsed": false
   }
  },
  {
   "cell_type": "code",
   "execution_count": 785,
   "outputs": [
    {
     "data": {
      "text/plain": "             d          \n-ⅈ⋅h̅⋅\\psi(x)⋅──(\\psi(x))\n             dx         ",
      "image/png": "[encoded data removed]",
      "text/latex": "$\\displaystyle - i \\hbar \\psi{\\left(x \\right)} \\frac{d}{d x} \\psi{\\left(x \\right)}$"
     },
     "execution_count": 785,
     "metadata": {},
     "output_type": "execute_result"
    }
   ],
   "source": [
    "C = psi(x) * p * psi(x).diff(x)\n",
    "C.simplify()"
   ],
   "metadata": {
    "collapsed": false
   }
  },
  {
   "cell_type": "code",
   "execution_count": 786,
   "outputs": [],
   "source": [
    "C = C.subs(psi(x), sol.rhs)\n",
    "Cp = sp.integrate(C, (x, 0, a)).simplify()"
   ],
   "metadata": {
    "collapsed": false
   }
  },
  {
   "cell_type": "markdown",
   "source": [
    "## Wyliczenie $ <p^2> $"
   ],
   "metadata": {
    "collapsed": false
   }
  },
  {
   "cell_type": "code",
   "execution_count": 787,
   "outputs": [
    {
     "data": {
      "text/plain": "              2         \n  2          d          \n-h̅ ⋅\\psi(x)⋅───(\\psi(x))\n              2         \n            dx          ",
      "image/png": "[encoded data removed]",
      "text/latex": "$\\displaystyle - \\hbar^{2} \\psi{\\left(x \\right)} \\frac{d^{2}}{d x^{2}} \\psi{\\left(x \\right)}$"
     },
     "execution_count": 787,
     "metadata": {},
     "output_type": "execute_result"
    }
   ],
   "source": [
    "C =  psi(x) * p ** 2 * psi(x).diff(x).diff(x)\n",
    "C.simplify()"
   ],
   "metadata": {
    "collapsed": false
   }
  },
  {
   "cell_type": "code",
   "execution_count": 788,
   "outputs": [
    {
     "data": {
      "text/plain": " 2  2  2\nπ ⋅h̅ ⋅n \n────────\n    2   \n   a    ",
      "image/png": "[encoded data removed]",
      "text/latex": "$\\displaystyle \\frac{\\pi^{2} \\hbar^{2} n^{2}}{a^{2}}$"
     },
     "execution_count": 788,
     "metadata": {},
     "output_type": "execute_result"
    }
   ],
   "source": [
    "C = C.subs(psi(x), sol.rhs)\n",
    "Cp2 = sp.integrate(C, (x, 0, a)).simplify()\n",
    "Cp2"
   ],
   "metadata": {
    "collapsed": false
   }
  },
  {
   "cell_type": "code",
   "execution_count": 789,
   "outputs": [
    {
     "data": {
      "text/plain": "      2   \nx⋅\\psi (x)",
      "image/png": "[encoded data removed]",
      "text/latex": "$\\displaystyle x \\psi^{2}{\\left(x \\right)}$"
     },
     "execution_count": 789,
     "metadata": {},
     "output_type": "execute_result"
    }
   ],
   "source": [
    "C =  psi(x) * x * psi(x)\n",
    "C"
   ],
   "metadata": {
    "collapsed": false
   }
  },
  {
   "cell_type": "markdown",
   "source": [
    "## Sprawdzenie zasady nieozaczoności"
   ],
   "metadata": {
    "collapsed": false
   }
  },
  {
   "cell_type": "code",
   "execution_count": 790,
   "outputs": [
    {
     "data": {
      "text/plain": "a\n─\n2",
      "image/png": "[encoded data removed]",
      "text/latex": "$\\displaystyle \\frac{a}{2}$"
     },
     "execution_count": 790,
     "metadata": {},
     "output_type": "execute_result"
    }
   ],
   "source": [
    "C = C.subs(psi(x), sol.rhs)\n",
    "Cx = sp.integrate(C, (x, 0, a)).simplify()\n",
    "Cx"
   ],
   "metadata": {
    "collapsed": false
   }
  },
  {
   "cell_type": "code",
   "execution_count": 791,
   "outputs": [
    {
     "data": {
      "text/plain": " 2     2   \nx ⋅\\psi (x)",
      "image/png": "[encoded data removed]",
      "text/latex": "$\\displaystyle x^{2} \\psi^{2}{\\left(x \\right)}$"
     },
     "execution_count": 791,
     "metadata": {},
     "output_type": "execute_result"
    }
   ],
   "source": [
    "C =  psi(x) * x ** 2 * psi(x)\n",
    "C"
   ],
   "metadata": {
    "collapsed": false
   }
  },
  {
   "cell_type": "code",
   "execution_count": 792,
   "outputs": [
    {
     "data": {
      "text/plain": " 2       2  \na       a   \n── - ───────\n3       2  2\n     2⋅π ⋅n ",
      "image/png": "[encoded data removed]",
      "text/latex": "$\\displaystyle \\frac{a^{2}}{3} - \\frac{a^{2}}{2 \\pi^{2} n^{2}}$"
     },
     "execution_count": 792,
     "metadata": {},
     "output_type": "execute_result"
    }
   ],
   "source": [
    "C = C.subs(psi(x), sol.rhs)\n",
    "Cx2 = sp.integrate(C, (x, 0, a)).simplify()\n",
    "Cx2"
   ],
   "metadata": {
    "collapsed": false
   }
  },
  {
   "cell_type": "code",
   "execution_count": 793,
   "outputs": [
    {
     "data": {
      "text/plain": "     2 ⎛ 2  2    ⎞\nh̅   h̅ ⋅⎝π ⋅n  - 6⎠\n─ ≤ ──────────────\n2         12      ",
      "image/png": "[encoded data removed]",
      "text/latex": "$\\displaystyle \\frac{\\hbar}{2} \\leq \\frac{\\hbar^{2} \\left(\\pi^{2} n^{2} - 6\\right)}{12}$"
     },
     "execution_count": 793,
     "metadata": {},
     "output_type": "execute_result"
    }
   ],
   "source": [
    "Q = (Cx2 - Cx ** 2) * (Cp2 - Cp ** 2)\n",
    "ineq = (Q >= h/2).simplify()\n",
    "ineq"
   ],
   "metadata": {
    "collapsed": false
   }
  },
  {
   "cell_type": "code",
   "execution_count": 794,
   "outputs": [
    {
     "data": {
      "text/plain": "True",
      "text/latex": "$\\displaystyle \\text{True}$"
     },
     "execution_count": 794,
     "metadata": {},
     "output_type": "execute_result"
    }
   ],
   "source": [
    "ineq = ineq.subs(h, 6.62607015).subs(sp.pi, 3.14).simplify()\n",
    "ineq = sp.reduce_inequalities(ineq, n).simplify()\n",
    "ineq"
   ],
   "metadata": {
    "collapsed": false
   }
  }
 ],
 "metadata": {
  "kernelspec": {
   "display_name": "Python 3",
   "language": "python",
   "name": "python3"
  },
  "language_info": {
   "codemirror_mode": {
    "name": "ipython",
    "version": 2
   },
   "file_extension": ".py",
   "mimetype": "text/x-python",
   "name": "python",
   "nbconvert_exporter": "python",
   "pygments_lexer": "ipython2",
   "version": "2.7.6"
  }
 },
 "nbformat": 4,
 "nbformat_minor": 0
}
